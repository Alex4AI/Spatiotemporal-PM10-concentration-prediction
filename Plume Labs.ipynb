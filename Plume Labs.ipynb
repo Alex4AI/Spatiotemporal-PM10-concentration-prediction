{
 "cells": [
  {
   "cell_type": "markdown",
   "metadata": {},
   "source": [
    "# Spatiotemporal PM10 concentration prediction by Plume Labs\n",
    "\n",
    "https://challengedata.ens.fr/challenges/7"
   ]
  },
  {
   "cell_type": "markdown",
   "metadata": {},
   "source": [
    "## Problem definition \n",
    "\n",
    "In order to provide air quality forecasts, Plume Labs has built a unique database with readings collected by monitoring stations all over the world. The problem consists in predicting the PM10 concentration measured at some stations using urban features evaluated at the station location as well as the readings provided by the stations nearby. \n",
    "\n",
    "The dataset gives the measures provided by 85 stations across Europe.\n",
    "\n",
    "For each PM10 reading, the dataset provides the following information: \n",
    "- Land-use characterization of the station location (i.e. is it located in a residential area, industrial area, …) \n",
    "- Roads density evaluated at the station location \n",
    "- PM10 readings at the closest stations as well as the distance to these stations \n",
    "\n",
    "The accuracy obtained by such a prediction model is a very good indicator of how an air quality prediction model performs in locations where there is no monitoring station."
   ]
  },
  {
   "cell_type": "code",
   "execution_count": 1,
   "metadata": {},
   "outputs": [],
   "source": [
    "import pandas as pd\n",
    "import numpy as np\n",
    "import matplotlib.pyplot as plt\n",
    "import pprint"
   ]
  },
  {
   "cell_type": "code",
   "execution_count": 2,
   "metadata": {},
   "outputs": [],
   "source": [
    "import warnings\n",
    "warnings.filterwarnings('ignore')"
   ]
  },
  {
   "cell_type": "code",
   "execution_count": 3,
   "metadata": {},
   "outputs": [],
   "source": [
    "data_input = pd.read_csv(r'C:\\Users\\alexi\\training_input_lat8cht.csv',dtype=np.float64)\n",
    "data_output = pd.read_csv(r'C:\\Users\\alexi\\training_output_Z18GQCh.csv',dtype=np.float64)"
   ]
  },
  {
   "cell_type": "code",
   "execution_count": 14,
   "metadata": {},
   "outputs": [
    {
     "data": {
      "text/html": [
       "<div>\n",
       "<style scoped>\n",
       "    .dataframe tbody tr th:only-of-type {\n",
       "        vertical-align: middle;\n",
       "    }\n",
       "\n",
       "    .dataframe tbody tr th {\n",
       "        vertical-align: top;\n",
       "    }\n",
       "\n",
       "    .dataframe thead th {\n",
       "        text-align: right;\n",
       "    }\n",
       "</style>\n",
       "<table border=\"1\" class=\"dataframe\">\n",
       "  <thead>\n",
       "    <tr style=\"text-align: right;\">\n",
       "      <th></th>\n",
       "      <th>ID</th>\n",
       "      <th>station_id</th>\n",
       "      <th>hdres_100</th>\n",
       "      <th>hdres_500</th>\n",
       "      <th>ldres_100</th>\n",
       "      <th>ldres_500</th>\n",
       "      <th>industry_100</th>\n",
       "      <th>industry_500</th>\n",
       "      <th>urbgreen_100</th>\n",
       "      <th>urbgreen_500</th>\n",
       "      <th>...</th>\n",
       "      <th>value_0</th>\n",
       "      <th>value_1</th>\n",
       "      <th>value_2</th>\n",
       "      <th>value_3</th>\n",
       "      <th>value_4</th>\n",
       "      <th>value_5</th>\n",
       "      <th>value_6</th>\n",
       "      <th>value_7</th>\n",
       "      <th>value_8</th>\n",
       "      <th>value_9</th>\n",
       "    </tr>\n",
       "  </thead>\n",
       "  <tbody>\n",
       "    <tr>\n",
       "      <th>0</th>\n",
       "      <td>0.0</td>\n",
       "      <td>105.0</td>\n",
       "      <td>0.0</td>\n",
       "      <td>0.0</td>\n",
       "      <td>1.0</td>\n",
       "      <td>0.929</td>\n",
       "      <td>0.0</td>\n",
       "      <td>0.033</td>\n",
       "      <td>0.0</td>\n",
       "      <td>0.022</td>\n",
       "      <td>...</td>\n",
       "      <td>53.0</td>\n",
       "      <td>46.0</td>\n",
       "      <td>52.0</td>\n",
       "      <td>44.0</td>\n",
       "      <td>40.0</td>\n",
       "      <td>38.0</td>\n",
       "      <td>54.0</td>\n",
       "      <td>36.0</td>\n",
       "      <td>39.0</td>\n",
       "      <td>42.0</td>\n",
       "    </tr>\n",
       "    <tr>\n",
       "      <th>1</th>\n",
       "      <td>1.0</td>\n",
       "      <td>105.0</td>\n",
       "      <td>0.0</td>\n",
       "      <td>0.0</td>\n",
       "      <td>1.0</td>\n",
       "      <td>0.929</td>\n",
       "      <td>0.0</td>\n",
       "      <td>0.033</td>\n",
       "      <td>0.0</td>\n",
       "      <td>0.022</td>\n",
       "      <td>...</td>\n",
       "      <td>55.0</td>\n",
       "      <td>47.0</td>\n",
       "      <td>54.0</td>\n",
       "      <td>45.0</td>\n",
       "      <td>41.0</td>\n",
       "      <td>39.0</td>\n",
       "      <td>55.0</td>\n",
       "      <td>37.0</td>\n",
       "      <td>40.0</td>\n",
       "      <td>43.0</td>\n",
       "    </tr>\n",
       "    <tr>\n",
       "      <th>2</th>\n",
       "      <td>2.0</td>\n",
       "      <td>105.0</td>\n",
       "      <td>0.0</td>\n",
       "      <td>0.0</td>\n",
       "      <td>1.0</td>\n",
       "      <td>0.929</td>\n",
       "      <td>0.0</td>\n",
       "      <td>0.033</td>\n",
       "      <td>0.0</td>\n",
       "      <td>0.022</td>\n",
       "      <td>...</td>\n",
       "      <td>84.5</td>\n",
       "      <td>54.0</td>\n",
       "      <td>78.0</td>\n",
       "      <td>49.0</td>\n",
       "      <td>47.0</td>\n",
       "      <td>42.0</td>\n",
       "      <td>63.0</td>\n",
       "      <td>42.0</td>\n",
       "      <td>48.0</td>\n",
       "      <td>49.0</td>\n",
       "    </tr>\n",
       "    <tr>\n",
       "      <th>3</th>\n",
       "      <td>3.0</td>\n",
       "      <td>105.0</td>\n",
       "      <td>0.0</td>\n",
       "      <td>0.0</td>\n",
       "      <td>1.0</td>\n",
       "      <td>0.929</td>\n",
       "      <td>0.0</td>\n",
       "      <td>0.033</td>\n",
       "      <td>0.0</td>\n",
       "      <td>0.022</td>\n",
       "      <td>...</td>\n",
       "      <td>97.0</td>\n",
       "      <td>59.0</td>\n",
       "      <td>84.0</td>\n",
       "      <td>55.0</td>\n",
       "      <td>58.0</td>\n",
       "      <td>48.0</td>\n",
       "      <td>72.0</td>\n",
       "      <td>51.0</td>\n",
       "      <td>57.0</td>\n",
       "      <td>59.0</td>\n",
       "    </tr>\n",
       "    <tr>\n",
       "      <th>4</th>\n",
       "      <td>4.0</td>\n",
       "      <td>105.0</td>\n",
       "      <td>0.0</td>\n",
       "      <td>0.0</td>\n",
       "      <td>1.0</td>\n",
       "      <td>0.929</td>\n",
       "      <td>0.0</td>\n",
       "      <td>0.033</td>\n",
       "      <td>0.0</td>\n",
       "      <td>0.022</td>\n",
       "      <td>...</td>\n",
       "      <td>99.0</td>\n",
       "      <td>67.0</td>\n",
       "      <td>95.0</td>\n",
       "      <td>63.0</td>\n",
       "      <td>67.0</td>\n",
       "      <td>48.0</td>\n",
       "      <td>82.0</td>\n",
       "      <td>59.0</td>\n",
       "      <td>64.0</td>\n",
       "      <td>65.0</td>\n",
       "    </tr>\n",
       "  </tbody>\n",
       "</table>\n",
       "<p>5 rows × 36 columns</p>\n",
       "</div>"
      ],
      "text/plain": [
       "    ID  station_id  hdres_100  hdres_500  ldres_100  ldres_500  industry_100  \\\n",
       "0  0.0       105.0        0.0        0.0        1.0      0.929           0.0   \n",
       "1  1.0       105.0        0.0        0.0        1.0      0.929           0.0   \n",
       "2  2.0       105.0        0.0        0.0        1.0      0.929           0.0   \n",
       "3  3.0       105.0        0.0        0.0        1.0      0.929           0.0   \n",
       "4  4.0       105.0        0.0        0.0        1.0      0.929           0.0   \n",
       "\n",
       "   industry_500  urbgreen_100  urbgreen_500   ...     value_0  value_1  \\\n",
       "0         0.033           0.0         0.022   ...        53.0     46.0   \n",
       "1         0.033           0.0         0.022   ...        55.0     47.0   \n",
       "2         0.033           0.0         0.022   ...        84.5     54.0   \n",
       "3         0.033           0.0         0.022   ...        97.0     59.0   \n",
       "4         0.033           0.0         0.022   ...        99.0     67.0   \n",
       "\n",
       "   value_2  value_3  value_4  value_5  value_6  value_7  value_8  value_9  \n",
       "0     52.0     44.0     40.0     38.0     54.0     36.0     39.0     42.0  \n",
       "1     54.0     45.0     41.0     39.0     55.0     37.0     40.0     43.0  \n",
       "2     78.0     49.0     47.0     42.0     63.0     42.0     48.0     49.0  \n",
       "3     84.0     55.0     58.0     48.0     72.0     51.0     57.0     59.0  \n",
       "4     95.0     63.0     67.0     48.0     82.0     59.0     64.0     65.0  \n",
       "\n",
       "[5 rows x 36 columns]"
      ]
     },
     "execution_count": 14,
     "metadata": {},
     "output_type": "execute_result"
    }
   ],
   "source": [
    "data_input.head()"
   ]
  },
  {
   "cell_type": "markdown",
   "metadata": {},
   "source": [
    "36 features\n",
    "\n",
    "695255 training samples"
   ]
  },
  {
   "cell_type": "markdown",
   "metadata": {},
   "source": [
    "## Data visualization\n",
    "\n",
    "\n",
    "<b> 1) Plot output data</b> <br>\n",
    "To get an idea of what we should expect.\n",
    "I use numpy and rolling mean to plot the evolution of PM10 concentration at each station. \n",
    "\n",
    "\n",
    "<b> 2) Plot histigrams of input data </b><br>\n",
    "Have a look at distributions in order to find : \n",
    "non sense outliers, features that should be binary, or non sense boundaries.\n",
    "    \n",
    "    \n",
    "<b> 3) Plot an heatmap </b><br>\n",
    "Looking at correlation should help us to identify redundant features.\n"
   ]
  },
  {
   "cell_type": "code",
   "execution_count": 15,
   "metadata": {},
   "outputs": [],
   "source": [
    "# Fonction : create rolling mean from data according to a window size\n",
    "\n",
    "def movingaverage(interval, window_size): \n",
    "    window = np.ones(int(window_size))/float(window_size)\n",
    "    return np.convolve(interval, window, 'same')"
   ]
  },
  {
   "cell_type": "code",
   "execution_count": 16,
   "metadata": {},
   "outputs": [],
   "source": [
    "# Reshape the data_output (values,stations x 1) as (stations x values)\n",
    "\n",
    "output_0 = pd.concat([data_input.station_id,data_output.value], axis=1)\n",
    "output_0 = output_0.sort_values('station_id')\n",
    "output = output_0.as_matrix().astype(int)\n",
    "\n",
    "tab = np.empty([115,8779])\n",
    "y=0\n",
    "for i in range(output.shape[0]-1):\n",
    "    tab[output[i,0],y] = output[i,1]\n",
    "    if output[i,0] == output[i+1,0]:\n",
    "        y=y+1\n",
    "    else:\n",
    "        y=0\n",
    "        \n",
    "tab = tab[~np.all(tab == 0, axis=1)] #remove null rows"
   ]
  },
  {
   "cell_type": "code",
   "execution_count": 17,
   "metadata": {},
   "outputs": [
    {
     "data": {
      "image/png": "[encoded data removed]",
      "text/plain": [
       "<Figure size 1152x576 with 1 Axes>"
      ]
     },
     "metadata": {
      "needs_background": "light"
     },
     "output_type": "display_data"
    }
   ],
   "source": [
    "# Use matplotlib to plot results for some stations\n",
    "\n",
    "x = np.arange(0,8779)\n",
    "window = 100\n",
    "y1 = movingaverage(tab[0,:].T,window) \n",
    "y2 = movingaverage(tab[1,:].T,window) \n",
    "y3 = movingaverage(tab[2,:].T,window) \n",
    "fig, ax = plt.subplots(figsize=(16, 8))\n",
    "plt.title(\"Evolution of PM10 concentration\")\n",
    "plt.plot(x, y1, color ='b', label=\"station_id = 0\")\n",
    "plt.plot(x, y2, color ='r', label=\"station_id = 1\")\n",
    "#plt.plot(x, y3, color ='g', label=\"station_id = 2\")\n",
    "plt.legend(loc='best')\n",
    "plt.xlabel(\"Time\")\n",
    "plt.ylabel(\"PM10 concentration\")\n",
    "plt.show()"
   ]
  },
  {
   "cell_type": "markdown",
   "metadata": {},
   "source": [
    "For each station, we can observe many amplitudes of oscillations, but the period of oscillations looks quite regular.<br>\n",
    "Later it could be interesting to consider it as time series."
   ]
  },
  {
   "cell_type": "code",
   "execution_count": 18,
   "metadata": {},
   "outputs": [
    {
     "data": {
      "text/plain": [
       "array([[<matplotlib.axes._subplots.AxesSubplot object at 0x0000027500215E80>,\n",
       "        <matplotlib.axes._subplots.AxesSubplot object at 0x000002750028BC88>,\n",
       "        <matplotlib.axes._subplots.AxesSubplot object at 0x00000275004A8208>,\n",
       "        <matplotlib.axes._subplots.AxesSubplot object at 0x00000275004BF780>],\n",
       "       [<matplotlib.axes._subplots.AxesSubplot object at 0x00000275006A7CF8>,\n",
       "        <matplotlib.axes._subplots.AxesSubplot object at 0x00000275006C42B0>,\n",
       "        <matplotlib.axes._subplots.AxesSubplot object at 0x00000275006DD828>,\n",
       "        <matplotlib.axes._subplots.AxesSubplot object at 0x00000275006F4DA0>],\n",
       "       [<matplotlib.axes._subplots.AxesSubplot object at 0x0000027500710358>,\n",
       "        <matplotlib.axes._subplots.AxesSubplot object at 0x00000275009098D0>,\n",
       "        <matplotlib.axes._subplots.AxesSubplot object at 0x0000027500921E48>,\n",
       "        <matplotlib.axes._subplots.AxesSubplot object at 0x000002750093D400>],\n",
       "       [<matplotlib.axes._subplots.AxesSubplot object at 0x0000027500954978>,\n",
       "        <matplotlib.axes._subplots.AxesSubplot object at 0x000002750096EEF0>,\n",
       "        <matplotlib.axes._subplots.AxesSubplot object at 0x000002750098B4A8>,\n",
       "        <matplotlib.axes._subplots.AxesSubplot object at 0x00000275009A2A20>]],\n",
       "      dtype=object)"
      ]
     },
     "execution_count": 18,
     "metadata": {},
     "output_type": "execute_result"
    },
    {
     "data": {
      "image/png": "[encoded data removed]",
      "text/plain": [
       "<Figure size 1152x720 with 16 Axes>"
      ]
     },
     "metadata": {
      "needs_background": "light"
     },
     "output_type": "display_data"
    }
   ],
   "source": [
    "# Use pandas library to plot each feature distribution\n",
    "train_short = data_input.loc[:, 'hdres_100' : 'major_roads_length_500']\n",
    "train_short.hist(figsize=(16,10))"
   ]
  },
  {
   "cell_type": "code",
   "execution_count": 19,
   "metadata": {},
   "outputs": [
    {
     "data": {
      "image/png": "[encoded data removed]",
      "text/plain": [
       "<Figure size 576x576 with 2 Axes>"
      ]
     },
     "metadata": {
      "needs_background": "light"
     },
     "output_type": "display_data"
    }
   ],
   "source": [
    "#Use matplotlib to plot correlations between features\n",
    "\n",
    "train_short.loc[:,'value']=data_output.value\n",
    "corr = train_short.corr()\n",
    "fig = plt.figure(figsize=(8,8))\n",
    "ax = fig.add_subplot(111)\n",
    "cax = ax.matshow(corr,cmap='coolwarm', vmin=-1, vmax=1)\n",
    "fig.colorbar(cax)\n",
    "ticks = np.arange(0,len(train_short.columns),1)\n",
    "ax.set_xticks(ticks)\n",
    "plt.xticks(rotation=90)\n",
    "ax.set_yticks(ticks)\n",
    "ax.set_xticklabels(train_short.columns)\n",
    "ax.set_yticklabels(train_short.columns)\n",
    "plt.title(\"Correlation table of features\", y=-0.1)\n",
    "plt.show()"
   ]
  },
  {
   "cell_type": "markdown",
   "metadata": {},
   "source": [
    "First, we observe that high density residential areas and roads have a positive correlation with PM10 concentration.<br>\n",
    "While the presence of low density residential areas and parks have a negative correlation with PM10 concentration.<br>\n",
    "\n",
    "We can see that <b>hdres</b>, <b>idres</b>, <b>industry</b> and <b>urbgreen</b> variables are highly correlated.<br>\n",
    "Later, if we want to reduce our number of features, combining those features two by two.<br>"
   ]
  },
  {
   "cell_type": "markdown",
   "metadata": {},
   "source": [
    "## Data cleaning\n",
    "\n",
    "For distances and values : Some values may be <b>𝑛𝑎𝑛</b>, which means that the corresponding monitoring station did not return any value at this moment.<br>\n",
    "Then I'm setting those $values = 1$ at far $distances = 1000000$ "
   ]
  },
  {
   "cell_type": "code",
   "execution_count": null,
   "metadata": {},
   "outputs": [],
   "source": [
    "def check_dataset(data):\n",
    "    print('There are Nan values in dataset :', np.any(np.isnan(data)))\n",
    "    print('There are only finite values in dataset :', np.all(np.isfinite(data)))"
   ]
  },
  {
   "cell_type": "code",
   "execution_count": null,
   "metadata": {},
   "outputs": [],
   "source": [
    "check_dataset(data_input)"
   ]
  },
  {
   "cell_type": "code",
   "execution_count": null,
   "metadata": {},
   "outputs": [],
   "source": [
    "%%capture\n",
    "data_input.loc[:, 'value_0' : 'value_9'].fillna(value=1,inplace=True)\n",
    "data_input.loc[:, 'distance_0' : 'distance_9'].fillna(value=1000000,inplace=True)"
   ]
  },
  {
   "cell_type": "markdown",
   "metadata": {},
   "source": [
    "## Data preprocessing\n",
    "\n",
    "Here I choose to combine $value$ and $distance$ features for the 10 closest stations.<br>\n",
    "\n",
    "For each close station of each sample I calculate the intensity recieved by those stations : \n",
    "$intensity = \\frac{value}{distance^2}$ <br>\n",
    "\n",
    "Then I create a new feature : $neighborhood = \\frac{1}{number ~of~ stations} \\sum_{i=0}^{9} intensity(_i) $\n"
   ]
  },
  {
   "cell_type": "code",
   "execution_count": 4,
   "metadata": {},
   "outputs": [],
   "source": [
    "def preprocess(data):\n",
    "    \n",
    "    data.loc[:, 'value_0' : 'value_9'].fillna(value=1,inplace=True)\n",
    "    data.loc[:, 'distance_0' : 'distance_9'].fillna(value=1000000,inplace=True)\n",
    "    \n",
    "    data.loc[:,'int'] = 0\n",
    "    \n",
    "    X = data.loc[:, 'hdres_100' : 'major_roads_length_500']\n",
    "    X.loc[:,'sum'] = 0\n",
    "    \n",
    "    for i in range(9):\n",
    "        data.loc[:,'intensity_{}'.format(i)] = (data.loc[:,'value_{}'.format(i)]\n",
    "                                                   /data.loc[:,'distance_{}'.format(i)]\n",
    "                                                   /data.loc[:,'distance_{}'.format(i)])\n",
    "     \n",
    "        data.loc[:,'int_{}'.format(i)] = np.heaviside(data.loc[:,'intensity_{}'.format(i)], 0.01)\n",
    "        \n",
    "        X.loc[:,'sum'] = X.loc[:,'sum'] + data.loc[:,'intensity_{}'.format(i)]\n",
    "        data.loc[:,'int'] = data.loc[:,'int'] + data.loc[:,'int_{}'.format(i)]\n",
    "\n",
    "    X.loc[:,'sum'] = X.loc[:,'sum'] / data.loc[:,'int']\n",
    "        \n",
    "    return X"
   ]
  },
  {
   "cell_type": "markdown",
   "metadata": {},
   "source": [
    "Two ways to split the dataset into training/test sets:\n",
    "- Split according to stations, and then shuffle training set\n",
    "- shuffle dataset and then split "
   ]
  },
  {
   "cell_type": "code",
   "execution_count": 5,
   "metadata": {},
   "outputs": [],
   "source": [
    "# Split dataset : 76 stations for training, 9 for testing\n",
    "# Shuffle training set\n",
    "\n",
    "from sklearn.utils import shuffle\n",
    "\n",
    "data_input_train = data_input.iloc[0:616404]\n",
    "data_input_test = data_input.iloc[616405:]\n",
    "X_train = preprocess(data_input_train)\n",
    "X_test = preprocess(data_input_test)\n",
    "y_train = data_output.iloc[0:616404].value\n",
    "y_test = data_output.iloc[616405:].value\n",
    "\n",
    "X_train, y_train = shuffle(X_train, y_train)"
   ]
  },
  {
   "cell_type": "code",
   "execution_count": null,
   "metadata": {},
   "outputs": [],
   "source": [
    "# Split shuffled dataset\n",
    "\n",
    "#from sklearn.model_selection import train_test_split\n",
    "#X_train, X_test, y_train, y_test = train_test_split(X,y, random_state = 0)"
   ]
  },
  {
   "cell_type": "markdown",
   "metadata": {},
   "source": [
    "## Baseline : Linear regression\n",
    "\n",
    "<b>Principle :</b> calculation of a dimension $d$ hyperplan (in a dimension $d+1$ hyperplan) what fits well our point cloud. Then we summarize our point cloud to $d+1$ numbers. <br>\n",
    "I use sklearn library, no hyperparametres to tune here."
   ]
  },
  {
   "cell_type": "code",
   "execution_count": null,
   "metadata": {},
   "outputs": [],
   "source": [
    "from sklearn.linear_model import LinearRegression\n",
    "from sklearn.metrics import mean_squared_log_error\n",
    "\n",
    "lr = LinearRegression()\n",
    "lr.fit(X_train, y_train)\n",
    "y_pred_lr = lr.predict(X_test)\n",
    "\n",
    "for i in range(len(y_pred_lr)):\n",
    "    if y_pred_lr[i]<0:\n",
    "        y_pred_lr[i]=0\n",
    "        \n",
    "print('Error with Linear regression =', mean_squared_log_error(y_test,y_pred_lr))"
   ]
  },
  {
   "cell_type": "markdown",
   "metadata": {},
   "source": [
    "## Model : Random Forest Regressor\n",
    "\n",
    "<b>Principle</b> : a $tree$ cuts the features space by asking successives questions. At each tree level, complexity increases, as well as overfitting risk. The advantage of $random forest$ is to grow many low-complexity trees, we bet on explanations multiplicity. More robustness, less variance.<br>\n",
    "\n",
    "Main hyperparameters :\n",
    "- n_estimators : number of trees\n",
    "- max_features : max use of features in node splitting\n",
    "- max_depth : max level of each tree\n",
    "- min_samples_split :\n",
    "- min_samples_leaf : \n",
    "\n",
    "The tuning method I use here has two steps :<br><br>\n",
    "<b>1) RandomizedSearchCV :</b> i use a grid to train random models in order to narrow the range of values for each hyperparameter.<br>\n",
    "<b>2) Grid search :</b> i make another grid based on the best values provided by random search. But this time, I try all combinations.\n",
    "\n",
    "Thoses methods use <b>cross-validation</b> : it divides the training dataset into shorter training dataset + validation dataset. This way, it finds the model with smallest error on validation dataset, so we prevent overfitting on training set."
   ]
  },
  {
   "cell_type": "markdown",
   "metadata": {},
   "source": [
    "### RandomizedSearchCV "
   ]
  },
  {
   "cell_type": "code",
   "execution_count": 6,
   "metadata": {},
   "outputs": [
    {
     "name": "stdout",
     "output_type": "stream",
     "text": [
      "{'bootstrap': [True, False],\n",
      " 'max_depth': [5, 8, 12, 16, 20, None],\n",
      " 'max_features': ['auto', 'sqrt'],\n",
      " 'min_samples_leaf': [1, 2, 4, 8, 10],\n",
      " 'min_samples_split': [2, 5, 10, 15],\n",
      " 'n_estimators': [100, 250, 400]}\n"
     ]
    }
   ],
   "source": [
    "# Create random grid\n",
    "\n",
    "from sklearn.model_selection import RandomizedSearchCV\n",
    "from sklearn.ensemble import RandomForestRegressor\n",
    "from sklearn.metrics import mean_squared_log_error\n",
    "\n",
    "\n",
    "n_estimators = [int(x) for x in np.linspace(start = 100, stop = 400, num = 3)]\n",
    "max_features = ['auto', 'sqrt']\n",
    "max_depth = [int(x) for x in np.linspace(5, 20, num = 5)]\n",
    "max_depth.append(None)\n",
    "min_samples_split = [2, 5, 10, 15]\n",
    "min_samples_leaf = [1, 2, 4, 8, 10]\n",
    "bootstrap = [True, False]\n",
    "\n",
    "random_grid = {'n_estimators': n_estimators,\n",
    "               'max_features': max_features,\n",
    "               'max_depth': max_depth,\n",
    "               'min_samples_split': min_samples_split,\n",
    "               'min_samples_leaf': min_samples_leaf,\n",
    "               'bootstrap': bootstrap}\n",
    "\n",
    "pprint.pprint(random_grid)"
   ]
  },
  {
   "cell_type": "code",
   "execution_count": 7,
   "metadata": {},
   "outputs": [
    {
     "name": "stdout",
     "output_type": "stream",
     "text": [
      "Fitting 3 folds for each of 30 candidates, totalling 90 fits\n"
     ]
    },
    {
     "name": "stderr",
     "output_type": "stream",
     "text": [
      "[Parallel(n_jobs=-1)]: Using backend LokyBackend with 4 concurrent workers.\n",
      "[Parallel(n_jobs=-1)]: Done  33 tasks      | elapsed: 183.9min\n",
      "[Parallel(n_jobs=-1)]: Done  90 out of  90 | elapsed: 392.9min finished\n"
     ]
    },
    {
     "data": {
      "text/plain": [
       "RandomizedSearchCV(cv=3, error_score='raise-deprecating',\n",
       "          estimator=RandomForestRegressor(bootstrap=True, criterion='mse', max_depth=None,\n",
       "           max_features='auto', max_leaf_nodes=None,\n",
       "           min_impurity_decrease=0.0, min_impurity_split=None,\n",
       "           min_samples_leaf=1, min_samples_split=2,\n",
       "           min_weight_fraction_leaf=0.0, n_estimators='warn', n_jobs=None,\n",
       "           oob_score=False, random_state=None, verbose=0, warm_start=False),\n",
       "          fit_params=None, iid='warn', n_iter=30, n_jobs=-1,\n",
       "          param_distributions={'min_samples_leaf': [1, 2, 4, 8, 10], 'n_estimators': [100, 250, 400], 'bootstrap': [True, False], 'min_samples_split': [2, 5, 10, 15], 'max_depth': [5, 8, 12, 16, 20, None], 'max_features': ['auto', 'sqrt']},\n",
       "          pre_dispatch='2*n_jobs', random_state=0, refit=True,\n",
       "          return_train_score='warn', scoring=None, verbose=2)"
      ]
     },
     "execution_count": 7,
     "metadata": {},
     "output_type": "execute_result"
    }
   ],
   "source": [
    "# Use the random grid to search for best hyperparameters\n",
    "\n",
    "rf = RandomForestRegressor()\n",
    "\n",
    "# Random search of parameters, using 3 fold cross validation, \n",
    "# search across 30 different combinations, and use all available cores\n",
    "\n",
    "rf_random = RandomizedSearchCV(estimator = rf, \n",
    "                               param_distributions = random_grid, \n",
    "                               n_iter = 30, \n",
    "                               cv = 3, \n",
    "                               verbose=2, \n",
    "                               random_state=0, \n",
    "                               n_jobs = -1)\n",
    "\n",
    "# Fit the random search model\n",
    "rf_random.fit(X_train, y_train)"
   ]
  },
  {
   "cell_type": "code",
   "execution_count": 8,
   "metadata": {},
   "outputs": [
    {
     "data": {
      "text/plain": [
       "{'bootstrap': True,\n",
       " 'max_depth': 16,\n",
       " 'max_features': 'sqrt',\n",
       " 'min_samples_leaf': 8,\n",
       " 'min_samples_split': 15,\n",
       " 'n_estimators': 400}"
      ]
     },
     "execution_count": 8,
     "metadata": {},
     "output_type": "execute_result"
    }
   ],
   "source": [
    "rf_random.best_params_"
   ]
  },
  {
   "cell_type": "markdown",
   "metadata": {},
   "source": [
    "### Grid search "
   ]
  },
  {
   "cell_type": "code",
   "execution_count": null,
   "metadata": {},
   "outputs": [],
   "source": [
    "from sklearn.model_selection import GridSearchCV\n",
    "from sklearn.model_selection import RandomizedSearchCV\n",
    "from sklearn.ensemble import RandomForestRegressor\n",
    "from sklearn.metrics import mean_squared_log_error\n",
    "\n",
    "# Create the parameter grid based on the results of random search \n",
    "param_grid = {\n",
    "    'bootstrap': [True],\n",
    "    'max_depth': [15, 17],\n",
    "    'max_features': ['sqrt'],\n",
    "    'min_samples_leaf': [7, 9],\n",
    "    'min_samples_split': [14, 16],\n",
    "    'n_estimators': [300, 500]\n",
    "}\n",
    "\n",
    "# Create a based model\n",
    "rf = RandomForestRegressor()\n",
    "\n",
    "# Instantiate the grid search model\n",
    "grid_search = GridSearchCV(estimator = rf, \n",
    "                           param_grid = param_grid, \n",
    "                           cv = 2, n_jobs = -1, verbose = 3)\n",
    "\n",
    "grid_search.fit(X_train, y_train)\n",
    "\n",
    "grid_search.best_params_"
   ]
  },
  {
   "cell_type": "code",
   "execution_count": null,
   "metadata": {},
   "outputs": [],
   "source": [
    "best_grid = grid_search.best_estimator_"
   ]
  },
  {
   "cell_type": "code",
   "execution_count": null,
   "metadata": {},
   "outputs": [],
   "source": [
    "best_grid"
   ]
  },
  {
   "cell_type": "markdown",
   "metadata": {},
   "source": [
    "## Selected model"
   ]
  },
  {
   "cell_type": "code",
   "execution_count": 9,
   "metadata": {},
   "outputs": [
    {
     "name": "stderr",
     "output_type": "stream",
     "text": [
      "[Parallel(n_jobs=-1)]: Using backend ThreadingBackend with 4 concurrent workers.\n"
     ]
    },
    {
     "name": "stdout",
     "output_type": "stream",
     "text": [
      "building tree 1 of 400building tree 2 of 400building tree 3 of 400building tree 4 of 400\n",
      "\n",
      "\n",
      "\n",
      "building tree 5 of 400\n",
      "building tree 6 of 400\n",
      "building tree 7 of 400\n",
      "building tree 8 of 400\n",
      "building tree 9 of 400\n",
      "building tree 10 of 400\n",
      "building tree 11 of 400\n",
      "building tree 12 of 400\n",
      "building tree 13 of 400\n",
      "building tree 14 of 400\n",
      "building tree 15 of 400\n",
      "building tree 16 of 400\n",
      "building tree 17 of 400\n",
      "building tree 18 of 400\n",
      "building tree 19 of 400\n",
      "building tree 20 of 400\n",
      "building tree 21 of 400\n",
      "building tree 22 of 400\n",
      "building tree 23 of 400\n",
      "building tree 24 of 400\n",
      "building tree 25 of 400\n",
      "building tree 26 of 400\n",
      "building tree 27 of 400\n",
      "building tree 28 of 400\n",
      "building tree 29 of 400\n",
      "building tree 30 of 400\n",
      "building tree 31 of 400\n",
      "building tree 32 of 400\n",
      "building tree 33 of 400\n",
      "building tree 34 of 400\n",
      "building tree 35 of 400\n",
      "building tree 36 of 400\n"
     ]
    },
    {
     "name": "stderr",
     "output_type": "stream",
     "text": [
      "[Parallel(n_jobs=-1)]: Done  33 tasks      | elapsed:   26.3s\n"
     ]
    },
    {
     "name": "stdout",
     "output_type": "stream",
     "text": [
      "building tree 37 of 400\n",
      "building tree 38 of 400\n",
      "building tree 39 of 400\n",
      "building tree 40 of 400\n",
      "building tree 41 of 400\n",
      "building tree 42 of 400\n",
      "building tree 43 of 400\n",
      "building tree 44 of 400\n",
      "building tree 45 of 400\n",
      "building tree 46 of 400\n",
      "building tree 47 of 400\n",
      "building tree 48 of 400\n",
      "building tree 49 of 400\n",
      "building tree 50 of 400\n",
      "building tree 51 of 400\n",
      "building tree 52 of 400\n",
      "building tree 53 of 400\n",
      "building tree 54 of 400\n",
      "building tree 55 of 400\n",
      "building tree 56 of 400\n",
      "building tree 57 of 400\n",
      "building tree 58 of 400\n",
      "building tree 59 of 400\n",
      "building tree 60 of 400\n",
      "building tree 61 of 400\n",
      "building tree 62 of 400\n",
      "building tree 63 of 400\n",
      "building tree 64 of 400\n",
      "building tree 65 of 400\n",
      "building tree 66 of 400\n",
      "building tree 67 of 400\n",
      "building tree 68 of 400\n",
      "building tree 69 of 400\n",
      "building tree 70 of 400\n",
      "building tree 71 of 400\n",
      "building tree 72 of 400\n",
      "building tree 73 of 400\n",
      "building tree 74 of 400\n",
      "building tree 75 of 400\n",
      "building tree 76 of 400\n",
      "building tree 77 of 400\n",
      "building tree 78 of 400\n",
      "building tree 79 of 400\n",
      "building tree 80 of 400\n",
      "building tree 81 of 400\n",
      "building tree 82 of 400\n",
      "building tree 83 of 400\n",
      "building tree 84 of 400\n",
      "building tree 85 of 400\n",
      "building tree 86 of 400\n",
      "building tree 87 of 400\n",
      "building tree 88 of 400\n",
      "building tree 89 of 400\n",
      "building tree 90 of 400\n",
      "building tree 91 of 400\n",
      "building tree 92 of 400\n",
      "building tree 93 of 400\n",
      "building tree 94 of 400\n",
      "building tree 95 of 400\n",
      "building tree 96 of 400\n",
      "building tree 97 of 400\n",
      "building tree 98 of 400\n",
      "building tree 99 of 400\n",
      "building tree 100 of 400\n",
      "building tree 101 of 400\n",
      "building tree 102 of 400\n",
      "building tree 103 of 400\n",
      "building tree 104 of 400\n",
      "building tree 105 of 400\n",
      "building tree 106 of 400\n",
      "building tree 107 of 400\n",
      "building tree 108 of 400\n",
      "building tree 109 of 400\n",
      "building tree 110 of 400\n",
      "building tree 111 of 400\n",
      "building tree 112 of 400\n",
      "building tree 113 of 400\n",
      "building tree 114 of 400\n",
      "building tree 115 of 400\n",
      "building tree 116 of 400\n",
      "building tree 117 of 400\n",
      "building tree 118 of 400\n",
      "building tree 119 of 400\n",
      "building tree 120 of 400\n",
      "building tree 121 of 400\n",
      "building tree 122 of 400\n",
      "building tree 123 of 400\n",
      "building tree 124 of 400\n",
      "building tree 125 of 400\n",
      "building tree 126 of 400\n",
      "building tree 127 of 400\n",
      "building tree 128 of 400\n",
      "building tree 129 of 400\n",
      "building tree 130 of 400\n",
      "building tree 131 of 400\n",
      "building tree 132 of 400\n",
      "building tree 133 of 400\n",
      "building tree 134 of 400building tree 135 of 400\n",
      "\n",
      "building tree 136 of 400\n",
      "building tree 137 of 400\n",
      "building tree 138 of 400\n",
      "building tree 139 of 400\n",
      "building tree 140 of 400\n",
      "building tree 141 of 400\n",
      "building tree 142 of 400\n",
      "building tree 143 of 400\n",
      "building tree 144 of 400\n",
      "building tree 145 of 400\n",
      "building tree 146 of 400\n",
      "building tree 147 of 400\n",
      "building tree 148 of 400\n",
      "building tree 149 of 400\n",
      "building tree 150 of 400\n",
      "building tree 151 of 400\n",
      "building tree 152 of 400\n",
      "building tree 153 of 400\n",
      "building tree 154 of 400\n",
      "building tree 155 of 400\n",
      "building tree 156 of 400\n",
      "building tree 157 of 400\n",
      "building tree 158 of 400\n"
     ]
    },
    {
     "name": "stderr",
     "output_type": "stream",
     "text": [
      "[Parallel(n_jobs=-1)]: Done 154 tasks      | elapsed:  1.9min\n"
     ]
    },
    {
     "name": "stdout",
     "output_type": "stream",
     "text": [
      "building tree 159 of 400\n",
      "building tree 160 of 400\n",
      "building tree 161 of 400\n",
      "building tree 162 of 400\n",
      "building tree 163 of 400\n",
      "building tree 164 of 400\n",
      "building tree 165 of 400\n",
      "building tree 166 of 400\n",
      "building tree 167 of 400\n",
      "building tree 168 of 400\n",
      "building tree 169 of 400\n",
      "building tree 170 of 400\n",
      "building tree 171 of 400\n",
      "building tree 172 of 400\n",
      "building tree 173 of 400\n",
      "building tree 174 of 400\n",
      "building tree 175 of 400\n",
      "building tree 176 of 400\n",
      "building tree 177 of 400\n",
      "building tree 178 of 400\n",
      "building tree 179 of 400\n",
      "building tree 180 of 400\n",
      "building tree 181 of 400\n",
      "building tree 182 of 400\n",
      "building tree 183 of 400\n",
      "building tree 184 of 400\n",
      "building tree 185 of 400\n",
      "building tree 186 of 400\n",
      "building tree 187 of 400\n",
      "building tree 188 of 400\n",
      "building tree 189 of 400\n",
      "building tree 190 of 400\n",
      "building tree 191 of 400\n",
      "building tree 192 of 400\n",
      "building tree 193 of 400\n",
      "building tree 194 of 400\n",
      "building tree 195 of 400\n",
      "building tree 196 of 400\n",
      "building tree 197 of 400\n",
      "building tree 198 of 400\n",
      "building tree 199 of 400\n",
      "building tree 200 of 400\n",
      "building tree 201 of 400\n",
      "building tree 202 of 400\n",
      "building tree 203 of 400\n",
      "building tree 204 of 400\n",
      "building tree 205 of 400\n",
      "building tree 206 of 400\n",
      "building tree 207 of 400\n",
      "building tree 208 of 400\n",
      "building tree 209 of 400\n",
      "building tree 210 of 400\n",
      "building tree 211 of 400\n",
      "building tree 212 of 400\n",
      "building tree 213 of 400\n",
      "building tree 214 of 400\n",
      "building tree 215 of 400building tree 216 of 400\n",
      "\n",
      "building tree 217 of 400\n",
      "building tree 218 of 400\n",
      "building tree 219 of 400\n",
      "building tree 220 of 400\n",
      "building tree 221 of 400\n",
      "building tree 222 of 400\n",
      "building tree 223 of 400\n",
      "building tree 224 of 400\n",
      "building tree 225 of 400\n",
      "building tree 226 of 400building tree 227 of 400\n",
      "\n",
      "building tree 228 of 400\n",
      "building tree 229 of 400\n",
      "building tree 230 of 400\n",
      "building tree 231 of 400\n",
      "building tree 232 of 400\n",
      "building tree 233 of 400\n",
      "building tree 234 of 400\n",
      "building tree 235 of 400\n",
      "building tree 236 of 400\n",
      "building tree 237 of 400\n",
      "building tree 238 of 400\n",
      "building tree 239 of 400\n",
      "building tree 240 of 400\n",
      "building tree 241 of 400\n",
      "building tree 242 of 400\n",
      "building tree 243 of 400building tree 244 of 400\n",
      "\n",
      "building tree 245 of 400\n",
      "building tree 246 of 400\n",
      "building tree 247 of 400\n",
      "building tree 248 of 400\n",
      "building tree 249 of 400\n",
      "building tree 250 of 400\n",
      "building tree 251 of 400\n",
      "building tree 252 of 400\n",
      "building tree 253 of 400\n",
      "building tree 254 of 400\n",
      "building tree 255 of 400\n",
      "building tree 256 of 400\n",
      "building tree 257 of 400\n",
      "building tree 258 of 400\n",
      "building tree 259 of 400\n",
      "building tree 260 of 400\n",
      "building tree 261 of 400\n",
      "building tree 262 of 400\n",
      "building tree 263 of 400\n",
      "building tree 264 of 400\n",
      "building tree 265 of 400\n",
      "building tree 266 of 400\n",
      "building tree 267 of 400\n",
      "building tree 268 of 400\n",
      "building tree 269 of 400\n",
      "building tree 270 of 400\n",
      "building tree 271 of 400\n",
      "building tree 272 of 400\n",
      "building tree 273 of 400\n",
      "building tree 274 of 400\n",
      "building tree 275 of 400\n",
      "building tree 276 of 400\n",
      "building tree 277 of 400\n",
      "building tree 278 of 400\n",
      "building tree 279 of 400\n",
      "building tree 280 of 400\n",
      "building tree 281 of 400building tree 282 of 400\n",
      "\n",
      "building tree 283 of 400\n",
      "building tree 284 of 400\n",
      "building tree 285 of 400\n",
      "building tree 286 of 400\n",
      "building tree 287 of 400\n",
      "building tree 288 of 400\n",
      "building tree 289 of 400\n",
      "building tree 290 of 400\n",
      "building tree 291 of 400\n",
      "building tree 292 of 400\n",
      "building tree 293 of 400\n",
      "building tree 294 of 400\n",
      "building tree 295 of 400\n",
      "building tree 296 of 400\n",
      "building tree 297 of 400\n",
      "building tree 298 of 400\n",
      "building tree 299 of 400\n",
      "building tree 300 of 400\n",
      "building tree 301 of 400\n",
      "building tree 302 of 400\n",
      "building tree 303 of 400\n",
      "building tree 304 of 400\n",
      "building tree 305 of 400\n",
      "building tree 306 of 400\n",
      "building tree 307 of 400\n",
      "building tree 308 of 400\n",
      "building tree 309 of 400\n",
      "building tree 310 of 400\n",
      "building tree 311 of 400\n",
      "building tree 312 of 400\n",
      "building tree 313 of 400\n",
      "building tree 314 of 400\n",
      "building tree 315 of 400\n",
      "building tree 316 of 400\n",
      "building tree 317 of 400\n",
      "building tree 318 of 400\n",
      "building tree 319 of 400building tree 320 of 400\n",
      "\n",
      "building tree 321 of 400\n",
      "building tree 322 of 400\n",
      "building tree 323 of 400\n",
      "building tree 324 of 400\n",
      "building tree 325 of 400\n",
      "building tree 326 of 400\n",
      "building tree 327 of 400\n",
      "building tree 328 of 400\n",
      "building tree 329 of 400\n",
      "building tree 330 of 400\n",
      "building tree 331 of 400\n",
      "building tree 332 of 400\n",
      "building tree 333 of 400\n",
      "building tree 334 of 400\n",
      "building tree 335 of 400\n",
      "building tree 336 of 400\n",
      "building tree 337 of 400\n",
      "building tree 338 of 400\n",
      "building tree 339 of 400\n",
      "building tree 340 of 400\n",
      "building tree 341 of 400\n",
      "building tree 342 of 400\n",
      "building tree 343 of 400\n",
      "building tree 344 of 400\n",
      "building tree 345 of 400\n",
      "building tree 346 of 400\n",
      "building tree 347 of 400\n",
      "building tree 348 of 400\n",
      "building tree 349 of 400\n",
      "building tree 350 of 400\n",
      "building tree 351 of 400\n",
      "building tree 352 of 400\n",
      "building tree 353 of 400\n",
      "building tree 354 of 400\n",
      "building tree 355 of 400\n",
      "building tree 356 of 400\n",
      "building tree 357 of 400\n",
      "building tree 358 of 400\n",
      "building tree 359 of 400\n",
      "building tree 360 of 400building tree 361 of 400\n",
      "\n"
     ]
    },
    {
     "name": "stderr",
     "output_type": "stream",
     "text": [
      "[Parallel(n_jobs=-1)]: Done 357 tasks      | elapsed:  4.5min\n"
     ]
    },
    {
     "name": "stdout",
     "output_type": "stream",
     "text": [
      "building tree 362 of 400\n",
      "building tree 363 of 400\n",
      "building tree 364 of 400\n",
      "building tree 365 of 400\n",
      "building tree 366 of 400\n",
      "building tree 367 of 400\n",
      "building tree 368 of 400\n",
      "building tree 369 of 400\n",
      "building tree 370 of 400\n",
      "building tree 371 of 400\n",
      "building tree 372 of 400\n",
      "building tree 373 of 400\n",
      "building tree 374 of 400\n",
      "building tree 375 of 400\n",
      "building tree 376 of 400\n",
      "building tree 377 of 400\n",
      "building tree 378 of 400\n",
      "building tree 379 of 400\n",
      "building tree 380 of 400\n",
      "building tree 381 of 400\n",
      "building tree 382 of 400\n",
      "building tree 383 of 400\n",
      "building tree 384 of 400\n",
      "building tree 385 of 400\n",
      "building tree 386 of 400\n",
      "building tree 387 of 400\n",
      "building tree 388 of 400\n",
      "building tree 389 of 400\n",
      "building tree 390 of 400\n",
      "building tree 391 of 400\n",
      "building tree 392 of 400\n",
      "building tree 393 of 400\n",
      "building tree 394 of 400\n",
      "building tree 395 of 400\n",
      "building tree 396 of 400\n",
      "building tree 397 of 400\n",
      "building tree 398 of 400\n",
      "building tree 399 of 400\n",
      "building tree 400 of 400\n"
     ]
    },
    {
     "name": "stderr",
     "output_type": "stream",
     "text": [
      "[Parallel(n_jobs=-1)]: Done 400 out of 400 | elapsed:  5.0min finished\n",
      "[Parallel(n_jobs=4)]: Using backend ThreadingBackend with 4 concurrent workers.\n",
      "[Parallel(n_jobs=4)]: Done  33 tasks      | elapsed:    0.0s\n",
      "[Parallel(n_jobs=4)]: Done 154 tasks      | elapsed:    0.4s\n"
     ]
    },
    {
     "name": "stdout",
     "output_type": "stream",
     "text": [
      "Wall time: 5min 1s\n"
     ]
    },
    {
     "name": "stderr",
     "output_type": "stream",
     "text": [
      "[Parallel(n_jobs=4)]: Done 357 tasks      | elapsed:    1.0s\n",
      "[Parallel(n_jobs=4)]: Done 400 out of 400 | elapsed:    1.1s finished\n"
     ]
    }
   ],
   "source": [
    "%%time\n",
    "\n",
    "from sklearn.ensemble import RandomForestRegressor\n",
    "\n",
    "forest = RandomForestRegressor(bootstrap=True, max_depth=16,\n",
    "           max_features='sqrt', max_leaf_nodes=None,\n",
    "           min_impurity_decrease=0.0, min_impurity_split=None,\n",
    "           min_samples_leaf=8, min_samples_split=15,\n",
    "           min_weight_fraction_leaf=0.0, n_estimators=400, n_jobs=-1,\n",
    "           oob_score=False, random_state=0, verbose=2, warm_start=False)\n",
    "\n",
    "forest.fit(X_train, y_train)\n",
    "y_pred = forest.predict(X_test)"
   ]
  },
  {
   "cell_type": "code",
   "execution_count": 10,
   "metadata": {},
   "outputs": [
    {
     "data": {
      "text/plain": [
       "0.6998435769308168"
      ]
     },
     "execution_count": 10,
     "metadata": {},
     "output_type": "execute_result"
    }
   ],
   "source": [
    "from sklearn.metrics import mean_squared_log_error\n",
    "mean_squared_log_error(y_test,y_pred)"
   ]
  },
  {
   "cell_type": "markdown",
   "metadata": {},
   "source": [
    "## Evaluate feature importance "
   ]
  },
  {
   "cell_type": "code",
   "execution_count": 21,
   "metadata": {},
   "outputs": [
    {
     "name": "stdout",
     "output_type": "stream",
     "text": [
      "Feature ranking:\n",
      "1. feature 14 (0.699344)\n",
      "2. feature 13 (0.042337)\n",
      "3. feature 10 (0.034438)\n",
      "4. feature 8 (0.029160)\n",
      "5. feature 9 (0.028204)\n",
      "6. feature 3 (0.027107)\n",
      "7. feature 5 (0.025911)\n",
      "8. feature 12 (0.023064)\n",
      "9. feature 11 (0.018845)\n",
      "10. feature 7 (0.017685)\n",
      "11. feature 2 (0.016472)\n",
      "12. feature 1 (0.013769)\n",
      "13. feature 4 (0.010802)\n",
      "14. feature 0 (0.008290)\n",
      "15. feature 6 (0.004572)\n"
     ]
    }
   ],
   "source": [
    "# Use sklearn library to analyse feature importances\n",
    "\n",
    "importances = forest.feature_importances_\n",
    "\n",
    "std = np.std([tree.feature_importances_ for tree in forest.estimators_],\n",
    "             axis=0)\n",
    "indices = np.argsort(importances)[::-1]\n",
    "\n",
    "# Print the feature ranking\n",
    "print(\"Feature ranking:\")\n",
    "\n",
    "for f in range(X_train.shape[1]):\n",
    "    print(\"%d. feature %d (%f)\" % (f + 1, indices[f], importances[indices[f]]))"
   ]
  },
  {
   "cell_type": "code",
   "execution_count": 22,
   "metadata": {},
   "outputs": [
    {
     "data": {
      "image/png": "[encoded data removed]",
      "text/plain": [
       "<Figure size 432x288 with 1 Axes>"
      ]
     },
     "metadata": {
      "needs_background": "light"
     },
     "output_type": "display_data"
    }
   ],
   "source": [
    "# Plot the feature importances of the forest\n",
    "\n",
    "plt.figure()\n",
    "plt.title(\"Feature importances\")\n",
    "plt.bar(range(X_train.shape[1]), importances[indices],\n",
    "       color=\"r\", yerr=std[indices], align=\"center\")\n",
    "plt.xticks(range(X_train.shape[1]), indices)\n",
    "plt.xlim([-1, X_train.shape[1]])\n",
    "plt.show()"
   ]
  },
  {
   "cell_type": "markdown",
   "metadata": {},
   "source": [
    "## Submission\n",
    "\n",
    "Let's preprocess the submission data and use the model to make predictions to submit"
   ]
  },
  {
   "cell_type": "code",
   "execution_count": 12,
   "metadata": {},
   "outputs": [],
   "source": [
    "submission = pd.read_csv(r'C:\\Users\\alexi\\testing_input_A9o5RSM.csv',dtype=np.float64)"
   ]
  },
  {
   "cell_type": "code",
   "execution_count": 13,
   "metadata": {},
   "outputs": [
    {
     "name": "stderr",
     "output_type": "stream",
     "text": [
      "[Parallel(n_jobs=4)]: Using backend ThreadingBackend with 4 concurrent workers.\n",
      "[Parallel(n_jobs=4)]: Done  33 tasks      | elapsed:    0.4s\n",
      "[Parallel(n_jobs=4)]: Done 154 tasks      | elapsed:    1.8s\n",
      "[Parallel(n_jobs=4)]: Done 357 tasks      | elapsed:    4.3s\n",
      "[Parallel(n_jobs=4)]: Done 400 out of 400 | elapsed:    4.9s finished\n"
     ]
    }
   ],
   "source": [
    "X_sub = preprocess(submission)\n",
    "y_sub = forest.predict(X_sub)\n",
    "pd.DataFrame(y_sub).to_csv('submission_ENS_10.csv')"
   ]
  },
  {
   "cell_type": "markdown",
   "metadata": {},
   "source": [
    "## Conclusion\n",
    "\n",
    "Our baseline reaches $error = 0.45$ with <b>linear regression</b>\n",
    "\n",
    "Random forests regressor gives : $error = 0.40$, with a learning time : 5 minutes\n",
    "\n",
    "Note that, here we considered the problem only as a <b>spatial regression problem.</b> Considering features at time t and close stations <br>\n",
    "If we want to improve our results, we should also consider taking into account the <b>temporal contribution.</b>\n",
    "\n",
    "Let's try <b>Recurrent Neural Network</b> models in another notebook."
   ]
  }
 ],
 "metadata": {
  "kernelspec": {
   "display_name": "Python 3",
   "language": "python",
   "name": "python3"
  },
  "language_info": {
   "codemirror_mode": {
    "name": "ipython",
    "version": 3
   },
   "file_extension": ".py",
   "mimetype": "text/x-python",
   "name": "python",
   "nbconvert_exporter": "python",
   "pygments_lexer": "ipython3",
   "version": "3.5.6"
  }
 },
 "nbformat": 4,
 "nbformat_minor": 2
}
